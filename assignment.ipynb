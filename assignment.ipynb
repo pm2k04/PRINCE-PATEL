{
  "nbformat": 4,
  "nbformat_minor": 0,
  "metadata": {
    "colab": {
      "provenance": []
    },
    "kernelspec": {
      "name": "python3",
      "display_name": "Python 3"
    },
    "language_info": {
      "name": "python"
    }
  },
  "cells": [
    {
      "cell_type": "code",
      "execution_count": null,
      "metadata": {
        "colab": {
          "base_uri": "https://localhost:8080/"
        },
        "id": "pR0VsKua2VG-",
        "outputId": "14e4ff1b-cbee-47a0-c7e0-2d965fd77061"
      },
      "outputs": [
        {
          "output_type": "stream",
          "name": "stdout",
          "text": [
            "Enter a positive integer: -1\n",
            "Please enter a positive integer greater than 0.\n"
          ]
        }
      ],
      "source": [
        "n = int(input(\"Enter a positive integer: \"))\n",
        "\n",
        "if n > 0:\n",
        "    sum = 0\n",
        "    i = 1\n",
        "    while i <= n:\n",
        "        sum += i\n",
        "        i += 1\n",
        "    print(\"The sum of the first\", n, \"positive integers is:\", sum)\n",
        "else:\n",
        "    print(\"Please enter a positive integer greater than 0.\")\n"
      ]
    },
    {
      "cell_type": "code",
      "source": [
        "def count_substring(main_string, sub_string):\n",
        "    count = main_string.count(sub_string)\n",
        "    return count\n",
        "if __name__ == \"__main__\":\n",
        "    main_string = input(\"Enter the main string: \")\n",
        "    sub_string = input(\"Enter the substring to count: \")\n",
        "\n",
        "print(f\"the substring{sub_string}occurs{ main_string}time(s)in mainstring\")"
      ],
      "metadata": {
        "colab": {
          "base_uri": "https://localhost:8080/"
        },
        "id": "XXcmqHuG2srs",
        "outputId": "6292f7b2-febb-48e1-cc91-6628ff601ba6"
      },
      "execution_count": null,
      "outputs": [
        {
          "output_type": "stream",
          "name": "stdout",
          "text": [
            "Enter the main string: prince\n",
            "Enter the substring to count: 2\n",
            "the substring2occursprincetime(s)in mainstring\n"
          ]
        }
      ]
    },
    {
      "cell_type": "code",
      "source": [
        "sentence = input(\"Enter the sentence: \")\n",
        "words = sentence.split()\n",
        "word_counts = {}\n",
        "for word in words:\n",
        "    word = word.lower()\n",
        "    if word in word_counts:\n",
        "        word_counts[word] += 1\n",
        "    else:\n",
        "        word_counts[word] = 1\n",
        "\n",
        "for word, count in word_counts.items():\n",
        "    print(f\"'{word}' occurs {count} time(s)\")"
      ],
      "metadata": {
        "colab": {
          "base_uri": "https://localhost:8080/"
        },
        "id": "5ws4ET2S296E",
        "outputId": "2a5e6af3-537c-4d7b-ee67-a83fba247c4c"
      },
      "execution_count": null,
      "outputs": [
        {
          "output_type": "stream",
          "name": "stdout",
          "text": [
            "Enter the sentence: i am patel patel prince\n",
            "'i' occurs 1 time(s)\n",
            "'am' occurs 1 time(s)\n",
            "'patel' occurs 2 time(s)\n",
            "'prince' occurs 1 time(s)\n"
          ]
        }
      ]
    },
    {
      "cell_type": "code",
      "source": [
        "str1,str2=(\"hello prince\").split()\n",
        "str1_swipped=str2[:2]+str1[2:]\n",
        "str2_swipped=str1[:2]+str2[2:]\n",
        "result=str1_swipped+\" \"+str2_swipped\n",
        "print(\"result:\",result)"
      ],
      "metadata": {
        "colab": {
          "base_uri": "https://localhost:8080/"
        },
        "id": "DI-N-XT-4JTh",
        "outputId": "ab07c72e-1b67-4d8d-ea69-df578f00808a"
      },
      "execution_count": null,
      "outputs": [
        {
          "output_type": "stream",
          "name": "stdout",
          "text": [
            "result: prllo heince\n"
          ]
        }
      ]
    },
    {
      "cell_type": "code",
      "source": [
        "word=input(\"enter a word\")\n",
        "if len(word) >=3:\n",
        "          if word[:-3]==\"ing\":\n",
        "                  word=word+\"ly\"\n",
        "          else:\n",
        "                  word=word+\"ing\"\n",
        "print (\"change the word:\",word)\n",
        "\n"
      ],
      "metadata": {
        "colab": {
          "base_uri": "https://localhost:8080/"
        },
        "id": "Sin-JvfU5UN3",
        "outputId": "9a08d38f-9aee-4b0b-866c-6462bd9df765"
      },
      "execution_count": null,
      "outputs": [
        {
          "output_type": "stream",
          "name": "stdout",
          "text": [
            "enter a wordPRINCCE\n",
            "change the word: PRINCCEing\n"
          ]
        }
      ]
    },
    {
      "cell_type": "code",
      "source": [
        "text = input(\"Enter a string: \")\n",
        "not_index = text.find('not')\n",
        "poor_index = text.find('poor')\n",
        "\n",
        "if not_index != -1 and poor_index != -1 and not_index < poor_index:\n",
        "\n",
        "    result = text[:not_index] + 'good' + text[poor_index + 4:]\n",
        "else:\n",
        "\n",
        "    result = text\n",
        "\n",
        "\n",
        "print(\"Result:\", result)\n",
        "\n"
      ],
      "metadata": {
        "colab": {
          "base_uri": "https://localhost:8080/"
        },
        "id": "MeDeaUaD8ovG",
        "outputId": "771d5ddc-5517-454f-f398-f1de74343222"
      },
      "execution_count": null,
      "outputs": [
        {
          "output_type": "stream",
          "name": "stdout",
          "text": [
            "Enter a string: i am not poor\n",
            "Result: i am good\n"
          ]
        }
      ]
    },
    {
      "cell_type": "code",
      "source": [],
      "metadata": {
        "id": "HJ-qKuZF8yvh"
      },
      "execution_count": null,
      "outputs": []
    }
  ]
}